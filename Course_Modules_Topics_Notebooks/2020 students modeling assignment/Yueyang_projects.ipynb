{
 "cells": [
  {
   "cell_type": "markdown",
   "metadata": {},
   "source": [
    "<a name=\"top\"></a>\n",
    "<div style=\"width:1000 px\">\n",
    "\n",
    "<div style=\"float:right; width:98 px; height:98px;\">\n",
    "<img src=\"https://cdn.miami.edu/_assets-common/images/system/um-logo-gray-bg.png\" alt=\"Miami Logo\" style=\"height: 98px;\">\n",
    "</div>\n",
    "\n",
    "<h1>Applied Data Analysis </h1>\n",
    "<h1>ATM/MPO 624, spring 2020</h1>\n",
    "<h2>Modeling the meaning of our data</h2>\n",
    "<h3>Epidemic math, then problems from/for our 6 class participants' efforts</h3>\n",
    "\n",
    "<div style=\"clear:both\"></div>\n",
    "</div>\n",
    "\n",
    "<hr style=\"height:2px;\">\n",
    "\n",
    "### Science from data: models of its meaning\n",
    "1. <a href=\"#epidemic\">Simplest epidemic model</a>\n",
    "1. <a href=\"#amy\">Dilution and chemistry with age: Amy's problem</a>\n",
    "1. <a href=\"#yueyang\">Eddies and mean zonal current: Yueyang's work</a>\n",
    "1. <a href=\"#ivenis\">Regressing signals in gappy SSH series: Ivenis' data</a>\n",
    "1. <a href=\"#sisam\">Averaging and emergent constraints in CERES grids: Sisam's challenge</a>\n",
    "1. <a href=\"#tyler\">NAO and PDO Index time series variance and prediction: Tyler's work</a>\n",
    "1. <a href=\"#kelsey\">Global maps regressed on climate time series (by web): Kelsey's field</a>\n",
    "1. <a href=\"#haozhe\">Haozhe, are you out there? Got a project to show/share?</a>"
   ]
  },
  {
   "cell_type": "markdown",
   "metadata": {},
   "source": [
    "<a name=\"epidemic\"></a>\n",
    "# Simple model of an epidemic: do problems at end"
   ]
  },
  {
   "cell_type": "markdown",
   "metadata": {},
   "source": [
    "### Definitions: Vulnerable, Sick, Immune\n",
    "\n",
    "Consider a fixed population (no birth or death) that can be subdivided into 3 categories: Vulnerable V, Sick S, and Recovered R. Model the transition from one state to another through infection and recovery processes. **How?** \n",
    "\n",
    "#### Infection\n",
    "Infection involves an encounter between S and V, with a lot of details we can't know. Whatever those details, we postulate that *infection doubles if S is doubled, or if V is doubled.* From this simple idea, the term must be a product (this is just like chemical kinetics). All the details can be encapsulated in a coefficient *k*, which lumps together both the social likelihood of close-range interaction and infection process details.  \n",
    "\n",
    "$dS/dt_{infection} = k \\times S \\times V$\n",
    "\n",
    "#### Recovery\n",
    "Sick people recover at some rate, and then are not vulnerable. If twice as many are sick, twice as many recover, so perhaps this proportionality is best modeled as a simple time decay:   \n",
    "\n",
    "$dS/dt_{recovery} = -S / \\tau$\n",
    "\n",
    "#### Model\n",
    "\n",
    "$dS/dt_{infection} = kSV - S / \\tau$\n",
    "\n",
    "$dV/dt_{infection} = -kSV$\n",
    "\n",
    "$dR/dt_{infection} = + S / \\tau$\n",
    "\n"
   ]
  },
  {
   "cell_type": "markdown",
   "metadata": {},
   "source": [
    "## Epidemic problems: \n",
    "\n",
    "1. What is the d/dt equation for V+S+R? (Just add the 3 equations). Discuss what processes we didn't include. \n",
    "\n",
    "1. What is the d/dt equation for total cases S+R? \n",
    "\n",
    "1. In the very early stages (t << $\\tau$, so that R << S, and V >> S is almost a constant, what is the solution S(t)? \n",
    "\n",
    "1. (**extra credit**) Is there an analytic solution for the more general case? \n",
    "\n",
    "1. We don't like that S(t) from 3., so we take steps that we hope might change the value of k. But perhaps those don't fully kick in until t > $\\tau$, an epoch when R is increasing and V begins to decrease as a signficant fraction of people have had the disease. Can we discern with data the difference between V decreasing and a decrease in the value of k? Discuss. \n",
    "\n",
    "1. Suppose $kV(0) =$ 3 days, and $\\tau = $ 10 days. Use a log10 scale on the y axis, in light of solution 3. above. Make it look like http://bmcnoldy.rsmas.miami.edu/covid19/ if you can. [Is the math too hard for people to understand?](https://www.forbes.com/sites/marshallshepherd/2020/03/23/is-the-math-too-hard-for-people-to-understand-covid-19-coronavirus) Play with k at various times, to see when and how its effect can be discerned and how that differs, from the situation where k remains constant and the infection simply runs out of V to infect. \n",
    "\n",
    "1. **Why bother with the code below when [this thing](https://gabgoh.github.io/COVID/index.html) exists?** Well, it was fun to give it a stab, and find out the Professional approach is not far from the simple ideas above!  "
   ]
  },
  {
   "cell_type": "code",
   "execution_count": 117,
   "metadata": {},
   "outputs": [],
   "source": [
    "# Poor man's epidemic calculator, \n",
    "# but just visit https://gabgoh.github.io/COVID/index.html\n",
    "\n",
    "import numpy as np\n",
    "\n",
    "# Day 1 setup. Time is discrete in days, starting at day 1 (array element 0)\n",
    "day = [1]\n",
    "V = [3.0e9] # 300 million\n",
    "S = [1.0]\n",
    "R = [0.0]\n",
    "\n",
    "# Parameters: kV(0) = 3 days\n",
    "k0 = 3/V[0]\n",
    "k = k0\n",
    "tau = 15. \n",
    "\n",
    "# simple forward time stepping by one day\n",
    "for iday in np.arange(2,365): \n",
    "    # print('day ',iday)\n",
    "    if (iday > 7): \n",
    "        k = k0/100\n",
    "    day.append([iday])\n",
    "    S.append(np.floor( S[iday-2] + k*S[iday-2]*V[iday-2]) )\n",
    "    R.append(np.floor( R[iday-2]                         + S[iday-2]/tau) )\n",
    "    V.append(np.floor( V[iday-2] - k*S[iday-2]*V[iday-2] - S[iday-2]/tau) )"
   ]
  },
  {
   "cell_type": "code",
   "execution_count": 118,
   "metadata": {},
   "outputs": [
    {
     "name": "stdout",
     "output_type": "stream",
     "text": [
      "Populating the interactive namespace from numpy and matplotlib\n"
     ]
    },
    {
     "data": {
      "text/plain": [
       "[<matplotlib.lines.Line2D at 0x110a249e8>,\n",
       " <matplotlib.lines.Line2D at 0x110a24b38>,\n",
       " <matplotlib.lines.Line2D at 0x110a24c88>]"
      ]
     },
     "execution_count": 118,
     "metadata": {},
     "output_type": "execute_result"
    },
    {
     "data": {
      "image/png": "[encoded data removed]",
      "text/plain": [
       "<Figure size 432x288 with 1 Axes>"
      ]
     },
     "metadata": {},
     "output_type": "display_data"
    }
   ],
   "source": [
    "# quick and dirty plotting, looks like my crude time stepping is unstable\n",
    "%pylab inline \n",
    "plt.xkcd() # whiteboard-like whimsical style \n",
    "plt.yscale('log')\n",
    "\n",
    "plot( np.transpose([S,R,V]) )"
   ]
  },
  {
   "cell_type": "code",
   "execution_count": 97,
   "metadata": {},
   "outputs": [],
   "source": [
    "plt.yscale?"
   ]
  },
  {
   "cell_type": "markdown",
   "metadata": {},
   "source": [
    "<a href=\"#top\">Back to top </a>"
   ]
  },
  {
   "cell_type": "markdown",
   "metadata": {},
   "source": [
    "<a name=\"yueyang\"></a>\n",
    "# Eddies and mean flow; Yueyang model it better with data?"
   ]
  },
  {
   "cell_type": "markdown",
   "metadata": {},
   "source": [
    "## How does eddy momentum flux relate to mean shear?\n",
    "\n",
    "Suppose we have velocity (u and v as usual) in an x,y,t domain. Use the overbar like $\\overline{u}(y,t)$ to express a zonal mean along the x axis, while $u'(x,y,t) = u(x,y,t)-\\overline{u}(y,t)$ indicates *eddy* deviations from that zonal mean. \n",
    "\n",
    "Eddy u-momentum flux in the meridional dimension is EMF =  $\\overline{u'v'}$. Its convergence EMFC = $-\\nabla \\cdot \\overline{u'v'}$. \n",
    "\n",
    "### Modeling the interactions\n",
    "\n",
    "We might postulate that eddy magnitude EM grows wherever the zonal mean absolute vorticity has a gradient, as strips of vorticity internal to a fluid are known to roll up into balls of vorticity by [shear instability](http://hmf.enseeiht.fr/travaux/CD0001/travaux/optmfn/hi/01pa/hyb72/kh/kh1.gif)). \n",
    "At the initial time, the amplitude of eddies is small compared to the mean flow so that eddies evole according to a linearized equation:\n",
    "\n",
    "(1).     $\\partial/\\partial t(EM) = \\partial/\\partial y(f + \\partial [u]/\\partial y)$.                       \n",
    "\n",
    "The mean flow evolves according to EMFC and a simple damping: \n",
    "\n",
    "(2).     $\\partial \\overline{u}/\\partial t = f_0 \\overline{v} + EMFC - \\overline{u} /\\tau$.\n",
    "\n",
    "Yueyang what do you think? Maybe it's like [this paper](https://journals.ametsoc.org/doi/pdf/10.1175/JPO-D-15-0139.1)... haven't read it... \n",
    "\n",
    "**(This is just my crude recall of Yueyang's earlier notebook from his [fork](https://github.com/LuluTex/MPO624-2020)). Yueyang, feel free to take over & make it make better sense!**"
   ]
  },
  {
   "cell_type": "code",
   "execution_count": null,
   "metadata": {},
   "outputs": [],
   "source": []
  },
  {
   "cell_type": "markdown",
   "metadata": {},
   "source": [
    "<a href=\"#top\">Back to top </a>"
   ]
  },
  {
   "cell_type": "markdown",
   "metadata": {},
   "source": [
    "<a name=\"kelsey\"></a>\n",
    "# Regressions of fields on indices: all do this "
   ]
  },
  {
   "cell_type": "markdown",
   "metadata": {},
   "source": [
    "## Global maps associated with time series from certain regions\n",
    "\n",
    "#### Regress maps to time series with this [web engine](https://www.esrl.noaa.gov/psd/data/correlation/)\n",
    "\n",
    "#### For everyone\n",
    "Spend about an hour playing with it. Capture some interesting features and share them with the class. \n",
    "\n",
    "Notice the \"random\" time series. For your favorite signal, compare your result to the identically scaled and colored plot using a random time series. How much of the signal pattern should you trust, based on your record length? "
   ]
  },
  {
   "cell_type": "code",
   "execution_count": null,
   "metadata": {},
   "outputs": [],
   "source": []
  }
 ],
 "metadata": {
  "kernelspec": {
   "display_name": "Python 3",
   "language": "python",
   "name": "python3"
  },
  "language_info": {
   "codemirror_mode": {
    "name": "ipython",
    "version": 3
   },
   "file_extension": ".py",
   "mimetype": "text/x-python",
   "name": "python",
   "nbconvert_exporter": "python",
   "pygments_lexer": "ipython3",
   "version": "3.7.6"
  }
 },
 "nbformat": 4,
 "nbformat_minor": 4
}
