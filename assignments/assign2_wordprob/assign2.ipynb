{
 "cells": [
  {
   "cell_type": "markdown",
   "metadata": {},
   "source": [
    "## Covariance as a flux: a word problem\n",
    "### Yueyang Lu\n"
   ]
  },
  {
   "cell_type": "markdown",
   "metadata": {},
   "source": [
    "### a). \n",
    "Since $\\overline{w} = 0,$ we have $w = \\overline{w} + w' = w'.$ \n",
    "\n",
    "$\\overline{wT} = \\overline{w'(\\overline{T}+T')} = \\overline{w'\\overline{T}} + \\overline{w'T'} = \\overline{w'}\\overline{T} + \\overline{w'T'} = \\overline{w'T'}.$\n",
    "\n"
   ]
  },
  {
   "cell_type": "markdown",
   "metadata": {},
   "source": [
    "### b). \n",
    "Using the least-square approach, the coefficient $a$ can be calculated by \n",
    "\n",
    "$a = \\frac{\\sigma_{w'T'}^2}{\\sigma_{w'}^2},$ \n",
    "\n",
    "where the sample covariance $\\sigma_{w'T'}^2=\\overline{w'T'}=1Kms^{-1}.$ \n",
    "\n",
    "Thus $a=\\frac{1Km/s}{(2m/s)^2}=0.25K/(ms^{-1}).$ \n",
    "\n",
    "Similarly, $b = \\frac{\\sigma_{T'w'}^2}{\\sigma_{T'}^2} = \\frac{1Km/s}{(3K)^2}=0.11(ms^{-1})/K.$ \n",
    "\n",
    "We see that $a \\cdot b = (\\frac{\\sigma_{w'T'}^2}{\\sigma_{w'}\\sigma_{T'}} )^2 = r_{w'T'}^2=1$ only when the sample correlation betwen $w'$ and $T'$ equals 1."
   ]
  },
  {
   "cell_type": "markdown",
   "metadata": {},
   "source": [
    "### c).\n",
    "The variance of term a is $\\overline{(aw')^2} =  \\overline {\\left(\\frac{\\overline{w'T'}}{\\overline{w'^2}} w' \\right)^2} = \n",
    "\\frac{\\overline{w'T'}^2}{\\overline{w'^2}}.$ \n",
    "\n",
    "The ratio of term a to $\\overline{T'^2}$ is the fraction that the term explains, i.e., $\\frac{\\overline{w'T'}^2}{\\overline{w'^2}\\cdot \\overline{T'^2}} = \n",
    "(\\frac{\\overline{w'T'}}{\\sigma_{w'}\\sigma_{T'}} )^2 = r_{w'T'}^2 = 0.028.$"
   ]
  },
  {
   "cell_type": "markdown",
   "metadata": {},
   "source": [
    "### d).\n",
    "The fraction of $\\overline{w'^2}$ that is explained by term b is the same, $(\\frac{\\overline{w'T'}}{\\sigma_{w'}\\sigma_{T'}} )^2 = r_{w'T'}^2 = 0.028.$"
   ]
  },
  {
   "cell_type": "markdown",
   "metadata": {},
   "source": [
    "### e).\n",
    "We assume the random error obeys several rules:\n",
    "1. Zero mean, $\\bar{\\varepsilon} = 0.$\n",
    "2. Independent from all variables except itself, i.e., covariance is zero, $\\overline{X\\varepsilon} = 0.$\n",
    "\n",
    "Thus"
   ]
  },
  {
   "cell_type": "markdown",
   "metadata": {},
   "source": [
    "|      Quantities     |     change    |      Quantities     |    change     |\n",
    "|---------------------|:-------------:|:-------------------:|--------------:|\n",
    "|        var(T')      |    increase   |        var(w')      |     same      |\n",
    "|      cov(w',T')     |      same     |      cov(w',T')     |     same      |\n",
    "|        a            |      same     |        b            |    decrease   |\n",
    "|        e1           |    increase   |        e2           |    increase   |\n",
    "| explained var of T' |    decrease   | explained var of w' |    decrease   |"
   ]
  }
 ],
 "metadata": {
  "kernelspec": {
   "display_name": "Python 3",
   "language": "python",
   "name": "python3"
  },
  "language_info": {
   "codemirror_mode": {
    "name": "ipython",
    "version": 3
   },
   "file_extension": ".py",
   "mimetype": "text/x-python",
   "name": "python",
   "nbconvert_exporter": "python",
   "pygments_lexer": "ipython3",
   "version": "3.7.4"
  }
 },
 "nbformat": 4,
 "nbformat_minor": 4
}
